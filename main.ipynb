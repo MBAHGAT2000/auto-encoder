{
 "cells": [
  {
   "cell_type": "code",
   "execution_count": null,
   "metadata": {},
   "outputs": [],
   "source": [
    "import requests\n",
    "\n",
    "def save_url_content_as_py(url, file_name):\n",
    "    try:\n",
    "        response = requests.get(url)\n",
    "        response.raise_for_status()  # Check for HTTP errors\n",
    "\n",
    "        with open(file_name, 'w') as file:\n",
    "            file.write(response.text)\n",
    "\n",
    "        print(f\"Content from {url} saved to {file_name} successfully.\")\n",
    "    except requests.RequestException as e:\n",
    "        print(f\"Error fetching content from {url}: {e}\")\n",
    "\n",
    "# Example usage:\n",
    "url = \"https://raw.githubusercontent.com/Amr-Abdellatif/Full-Autoencoder-implemented-in-PyTorch/main/utils.py\"  # Replace with your desired URL\n",
    "file_name = \"utils.py\"  # Replace with your desired file name\n",
    "\n",
    "save_url_content_as_py(url, file_name)\n",
    "\n"
   ]
  },
  {
   "cell_type": "code",
   "execution_count": 3,
   "metadata": {},
   "outputs": [],
   "source": [
    "import torch\n",
    "from torch import nn\n",
    "import torch.nn.functional as F\n",
    "from utils import View\n",
    "from utils import train_network\n",
    "from torch.utils.data import Dataset, DataLoader\n",
    "from torchvision import datasets\n",
    "from torchvision.datasets import MNIST\n",
    "from torchvision import transforms\n",
    "import numpy as np\n",
    "import seaborn as sns\n",
    "import matplotlib.pyplot as plt"
   ]
  },
  {
   "cell_type": "code",
   "execution_count": null,
   "metadata": {},
   "outputs": [],
   "source": []
  }
 ],
 "metadata": {
  "kernelspec": {
   "display_name": "Python 3 (ipykernel)",
   "language": "python",
   "name": "python3"
  },
  "language_info": {
   "codemirror_mode": {
    "name": "ipython",
    "version": 3
   },
   "file_extension": ".py",
   "mimetype": "text/x-python",
   "name": "python",
   "nbconvert_exporter": "python",
   "pygments_lexer": "ipython3",
   "version": "3.9.12"
  }
 },
 "nbformat": 4,
 "nbformat_minor": 4
}
